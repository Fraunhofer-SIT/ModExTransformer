{
 "cells": [
  {
   "cell_type": "code",
   "execution_count": null,
   "id": "7a1d550b",
   "metadata": {},
   "outputs": [],
   "source": [
    "import sys\n",
    "sys.path.append('../')\n",
    "from fid import fid_score\n",
    "import argparse\n",
    "import pandas as pd\n",
    "import time"
   ]
  },
  {
   "cell_type": "code",
   "execution_count": null,
   "id": "8727c2fe",
   "metadata": {},
   "outputs": [],
   "source": [
    "args = \\\n",
    "{'input_size': 299,\n",
    " 'batch_size': 100,\n",
    " 'num_workers': 5,\n",
    " 'device': 'cuda',\n",
    " 'dims': 2048}\n",
    "\n",
    "args = argparse.Namespace(**args)"
   ]
  },
  {
   "cell_type": "code",
   "execution_count": null,
   "id": "8163ebc4",
   "metadata": {
    "scrolled": false
   },
   "outputs": [],
   "source": [
    "args.datasets = ['caltech', 'cifar10', 'cubs', 'indoor', 'gtsrb', 'svhn', 'imagenet_fixed_100', 'imagenet_fixed_50', 'imagenet_fixed_20', 'imagenet_fixed_10']\n",
    "t = time.time()\n",
    "fid_scores = fid_score.calculate_fid_given_datasets(args)\n",
    "print(time.time() - t)"
   ]
  },
  {
   "cell_type": "code",
   "execution_count": null,
   "id": "7cb6e54e",
   "metadata": {},
   "outputs": [],
   "source": [
    "pd.DataFrame(fid_scores, index=args.datasets, columns=args.datasets).to_csv('fid_scores_299.csv')"
   ]
  }
 ],
 "metadata": {
  "kernelspec": {
   "display_name": "Python 3",
   "language": "python",
   "name": "python3"
  },
  "language_info": {
   "codemirror_mode": {
    "name": "ipython",
    "version": 3
   },
   "file_extension": ".py",
   "mimetype": "text/x-python",
   "name": "python",
   "nbconvert_exporter": "python",
   "pygments_lexer": "ipython3",
   "version": "3.8.12"
  }
 },
 "nbformat": 4,
 "nbformat_minor": 5
}
