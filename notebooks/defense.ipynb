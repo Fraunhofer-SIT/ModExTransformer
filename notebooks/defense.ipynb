{
 "cells": [
  {
   "cell_type": "code",
   "execution_count": 2,
   "id": "4ac308d7",
   "metadata": {},
   "outputs": [],
   "source": [
    "import sys\n",
    "sys.path.append('../')\n",
    "import argparse\n",
    "from tqdm import tqdm\n",
    "from scipy.stats import entropy\n",
    "import torch\n",
    "import torch.nn.functional as F\n",
    "\n",
    "from timm.models import create_model\n",
    "from defenses.victim import MAD, ReverseSigmoid, RandomNoise\n",
    "\n",
    "from datasets import build_transform, get_dataset\n",
    "\n",
    "import models\n",
    "import utils\n",
    "from utils import get_free_gpu\n",
    "\n",
    "num_gpus = 1\n",
    "gpu_chosen = get_free_gpu(num_gpus)\n",
    "device = torch.device('cuda' if torch.cuda.is_available() else \"cpu\")"
   ]
  },
  {
   "cell_type": "code",
   "execution_count": null,
   "id": "d97d01f9",
   "metadata": {},
   "outputs": [],
   "source": [
    "args = {'input_size': 224}\n",
    "args = argparse.Namespace(**args)"
   ]
  },
  {
   "cell_type": "code",
   "execution_count": 8,
   "id": "a3ed30ca",
   "metadata": {},
   "outputs": [],
   "source": [
    "def get_accuracy(output, target, topk=(1,)):\n",
    "    \"\"\" Computes the precision@k for the specified values of k \"\"\"\n",
    "    maxk = max(topk)\n",
    "    batch_size = target.size(0)\n",
    "\n",
    "    _, pred = output.topk(maxk, 1, True, True)\n",
    "    pred = pred.t()\n",
    "    # one-hot case\n",
    "    if target.ndimension() > 1:\n",
    "        target = target.max(1)[1]\n",
    "\n",
    "    correct = pred.eq(target.view(1, -1).expand_as(pred))\n",
    "\n",
    "    res = dict()\n",
    "    for k in topk:\n",
    "        correct_k = correct[:k].reshape(-1).float().sum(0)\n",
    "        res[\"acc{}\".format(k)] = correct_k.mul_(1.0 / batch_size).item()\n",
    "    return res\n",
    "\n",
    "\n",
    "def predict(model, model_defended, data_loader, device='cuda'):\n",
    "    model = model.to(device)\n",
    "    model.eval()\n",
    "    preds_orig = []\n",
    "    preds_def = []\n",
    "    labels = []\n",
    "    with torch.no_grad():\n",
    "        for x, y in tqdm(data_loader):\n",
    "            x, y = x.to(device, non_blocking=True), y.to(device, non_blocking=True)\n",
    "            preds_orig.append(F.softmax(model(x), 1).to('cpu'))\n",
    "            preds_def.append(model_defended(x).to('cpu'))\n",
    "            labels.append(y.to('cpu'))\n",
    "    return torch.cat(preds_orig), torch.cat(preds_def), torch.cat(labels)\n",
    "\n",
    "\n",
    "def evaluate(model, model_defended, datasets, batch_size=100, workers=4):\n",
    "    if not isinstance(datasets, tuple):\n",
    "        datasets = (datasets, )\n",
    "    res = {}\n",
    "    for i, dataset in enumerate(datasets):\n",
    "        d_type = \"\" if len(datasets) == 1 else [\"train\", \"test\"][i]\n",
    "        data_loader = torch.utils.data.DataLoader(dataset, batch_size=batch_size, num_workers=workers)\n",
    "        \n",
    "        print(f'Evaluate on {dataset.__class__.__name__} {d_type} data:')\n",
    "        preds_orig, preds_def, labels = predict(model, model_defended, data_loader)\n",
    "        num_classes = preds_def.shape[1]\n",
    "        \n",
    "        print(f'Results on {dataset.__class__.__name__} {d_type} data:')\n",
    "        print('Accuracy original:', get_accuracy(preds_orig, labels)['acc1'])\n",
    "        print('Accuracy defended:', get_accuracy(preds_def, labels)['acc1'])\n",
    "        print('Fidelity:', get_accuracy(preds_orig, preds_def)['acc1'])\n",
    "        print('Mean relative entropy original:', np.mean(entropy(preds_orig, axis=1, base=2) / np.log2(num_classes)))\n",
    "        print('Mean relative entropy defended:', np.mean(entropy(preds_def, axis=1, base=2) / np.log2(num_classes)))\n",
    "        print('Mean max/min original:', torch.mean(preds_orig.max(1)[0] / preds_orig.min(1)[0]).item())\n",
    "        print('Mean max/min defended:', torch.mean(preds_def.max(1)[0] / preds_def.min(1)[0]).item())\n",
    "        print('Mean L1 distance:', torch.mean(torch.linalg.vector_norm(preds_orig - preds_def, 1, 1)).item())\n",
    "        print()\n",
    "        res[d_type] = (preds_orig, preds_def, labels)\n",
    "    return res"
   ]
  },
  {
   "cell_type": "code",
   "execution_count": null,
   "id": "78124991",
   "metadata": {},
   "outputs": [],
   "source": [
    "model = create_model(\n",
    "    'resnet34',\n",
    "    num_classes=10\n",
    ")\n",
    "model.load_state_dict(torch.load(f'checkpoints/checkpoint.pth')['model'])\n",
    "\n",
    "model_adv = create_model(\n",
    "    'deit_base_patch16_224',\n",
    "    pretrained=False,\n",
    "    num_classes=10\n",
    ")\n",
    "\n",
    "datasets = get_dataset('cifar10', train_transform=build_transform(False, args), val_transform=build_transform(False, args))"
   ]
  },
  {
   "cell_type": "code",
   "execution_count": null,
   "id": "0972993e",
   "metadata": {
    "scrolled": true
   },
   "outputs": [],
   "source": [
    "epsilon = 50.1\n",
    "beta = 2.0\n",
    "gamma = 0.5\n",
    "output_path = './log'\n",
    "dist_z = 'l1'\n",
    "oracle = 'argmax'\n",
    "\n",
    "model_defended = RandomNoise(model=model, out_path=output_path, dist_z=dist_z, epsilon_z=epsilon)\n",
    "#model_defended = ReverseSigmoid(model=model, out_path=output_path, beta=beta, gamma=gamma)\n",
    "#model_defended = MAD(model=model, out_path=output_path, epsilon=epsilon, model_adv_proxy=model_adv, oracle=oracle)"
   ]
  },
  {
   "cell_type": "code",
   "execution_count": null,
   "id": "9f98e8a1",
   "metadata": {},
   "outputs": [],
   "source": [
    "res = evaluate(model, model_defended, datasets[1], 512)"
   ]
  }
 ],
 "metadata": {
  "kernelspec": {
   "display_name": "Python 3",
   "language": "python",
   "name": "python3"
  },
  "language_info": {
   "codemirror_mode": {
    "name": "ipython",
    "version": 3
   },
   "file_extension": ".py",
   "mimetype": "text/x-python",
   "name": "python",
   "nbconvert_exporter": "python",
   "pygments_lexer": "ipython3",
   "version": "3.8.12"
  }
 },
 "nbformat": 4,
 "nbformat_minor": 5
}
